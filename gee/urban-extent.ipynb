{
 "cells": [
  {
   "cell_type": "code",
   "execution_count": 1,
   "id": "496892db-d57b-4111-9694-94afb08c9484",
   "metadata": {},
   "outputs": [],
   "source": [
    "# Prevent pycache from being generated while developing\n",
    "import sys\n",
    "sys.dont_write_bytecode=True"
   ]
  },
  {
   "cell_type": "code",
   "execution_count": 2,
   "id": "3cf33407-d5b5-431e-8c4e-b7bbe859c3d0",
   "metadata": {},
   "outputs": [],
   "source": [
    "# Import required packages\n",
    "import ee\n",
    "from pprint import pprint"
   ]
  },
  {
   "cell_type": "code",
   "execution_count": 3,
   "id": "dcb1f3dc-571f-4c77-a5b0-e0238dc196b2",
   "metadata": {},
   "outputs": [
    {
     "name": "stdout",
     "output_type": "stream",
     "text": [
      "GHSL PROJ: EPSG:3857 [100, 0, -18041000, 0, -100, 9000000]\n"
     ]
    }
   ],
   "source": [
    "# Import local files\n",
    "import config\n",
    "import geelayers\n",
    "import cities\n",
    "import helpers\n",
    "import super_rasters"
   ]
  },
  {
   "cell_type": "code",
   "execution_count": 17,
   "id": "3f3af070-25dd-4c07-85e1-ed4aae851856",
   "metadata": {},
   "outputs": [
    {
     "data": {
      "text/html": [
       "\n",
       "            <style>\n",
       "                .geemap-dark {\n",
       "                    --jp-widgets-color: white;\n",
       "                    --jp-widgets-label-color: white;\n",
       "                    --jp-ui-font-color1: white;\n",
       "                    --jp-layout-color2: #454545;\n",
       "                    background-color: #383838;\n",
       "                }\n",
       "\n",
       "                .geemap-dark .jupyter-button {\n",
       "                    --jp-layout-color3: #383838;\n",
       "                }\n",
       "\n",
       "                .geemap-colab {\n",
       "                    background-color: var(--colab-primary-surface-color, white);\n",
       "                }\n",
       "\n",
       "                .geemap-colab .jupyter-button {\n",
       "                    --jp-layout-color3: var(--colab-primary-surface-color, white);\n",
       "                }\n",
       "            </style>\n",
       "            "
      ],
      "text/plain": [
       "<IPython.core.display.HTML object>"
      ]
     },
     "metadata": {},
     "output_type": "display_data"
    },
    {
     "name": "stdout",
     "output_type": "stream",
     "text": [
      "GHSL PROJ: EPSG:3857 [100, 0, -18041000, 0, -100, 9000000]\n"
     ]
    },
    {
     "data": {
      "text/plain": [
       "<module 'geelayers' from '/home/weiqi_tori/GitHub/wri/urban_extent/gee/geelayers.py'>"
      ]
     },
     "execution_count": 17,
     "metadata": {},
     "output_type": "execute_result"
    }
   ],
   "source": [
    "# Reload local files while developing\n",
    "import importlib\n",
    "# importlib.reload(cities)\n",
    "importlib.reload(geelayers)\n",
    "# importlib.reload(config)\n",
    "# importlib.reload(helpers)\n",
    "# importlib.reload(super_rasters)"
   ]
  },
  {
   "cell_type": "code",
   "execution_count": 4,
   "id": "e265fc9a",
   "metadata": {},
   "outputs": [
    {
     "data": {
      "text/html": [
       "\n",
       "            <style>\n",
       "                .geemap-dark {\n",
       "                    --jp-widgets-color: white;\n",
       "                    --jp-widgets-label-color: white;\n",
       "                    --jp-ui-font-color1: white;\n",
       "                    --jp-layout-color2: #454545;\n",
       "                    background-color: #383838;\n",
       "                }\n",
       "\n",
       "                .geemap-dark .jupyter-button {\n",
       "                    --jp-layout-color3: #383838;\n",
       "                }\n",
       "\n",
       "                .geemap-colab {\n",
       "                    background-color: var(--colab-primary-surface-color, white);\n",
       "                }\n",
       "\n",
       "                .geemap-colab .jupyter-button {\n",
       "                    --jp-layout-color3: var(--colab-primary-surface-color, white);\n",
       "                }\n",
       "            </style>\n",
       "            "
      ],
      "text/plain": [
       "<IPython.core.display.HTML object>"
      ]
     },
     "metadata": {},
     "output_type": "display_data"
    },
    {
     "name": "stdout",
     "output_type": "stream",
     "text": [
      "13\n",
      "['projects/earthengine-legacy/assets/projects/wri-datalab/cities/urban_land_use/data/test_tori_Apr2024/GHSL_BUthresh10pct_JRCs_50compare_L2_20_wP_2020',\n",
      " 'projects/earthengine-legacy/assets/projects/wri-datalab/cities/urban_land_use/data/test_tori_Apr2024/GHSL_BUthresh10pct_JRCs_50compare_L2_20_wP_2020_circle',\n",
      " 'projects/earthengine-legacy/assets/projects/wri-datalab/cities/urban_land_use/data/test_tori_Apr2024/builtup_density_JRCs_1000',\n",
      " 'projects/earthengine-legacy/assets/projects/wri-datalab/cities/urban_land_use/data/test_tori_Apr2024/builtup_density_JRCs_50compare_L1',\n",
      " 'projects/earthengine-legacy/assets/projects/wri-datalab/cities/urban_land_use/data/test_tori_Apr2024/builtup_density_JRCs_50compare_L2',\n",
      " 'projects/earthengine-legacy/assets/projects/wri-datalab/cities/urban_land_use/data/test_tori_Apr2024/builtup_density_JRCs_50compare_L2_100',\n",
      " 'projects/earthengine-legacy/assets/projects/wri-datalab/cities/urban_land_use/data/test_tori_Apr2024/builtup_density_JRCs_50compare_L2_120',\n",
      " 'projects/earthengine-legacy/assets/projects/wri-datalab/cities/urban_land_use/data/test_tori_Apr2024/builtup_density_JRCs_50compare_L2_150',\n",
      " 'projects/earthengine-legacy/assets/projects/wri-datalab/cities/urban_land_use/data/test_tori_Apr2024/builtup_density_JRCs_50compare_L2_20_wP',\n",
      " 'projects/earthengine-legacy/assets/projects/wri-datalab/cities/urban_land_use/data/test_tori_Apr2024/builtup_density_JRCs_50compare_L2_25',\n",
      " 'projects/earthengine-legacy/assets/projects/wri-datalab/cities/urban_land_use/data/test_tori_Apr2024/builtup_density_JRCs_50compare_L2_40',\n",
      " 'projects/earthengine-legacy/assets/projects/wri-datalab/cities/urban_land_use/data/test_tori_Apr2024/builtup_density_JRCs_50compare_L2_80',\n",
      " 'projects/earthengine-legacy/assets/projects/wri-datalab/cities/urban_land_use/data/test_tori_Apr2024/builtup_density_rerun_50compare']\n"
     ]
    }
   ],
   "source": [
    "# Get list of image collections in a folder\n",
    "def get_collections(folder):\n",
    "    collections = ee.data.getList({'id': folder})\n",
    "    return collections\n",
    "\n",
    "\n",
    "collections = get_collections(config.ROOT)\n",
    "\n",
    "\n",
    "## Select Image collection\n",
    "### Count the number of images in the collection\n",
    "size = len(collections)\n",
    "print(size)\n",
    "\n",
    "### Extract image names as a list\n",
    "collection_ids = [collection['id'] for collection in collections]\n",
    "pprint(collection_ids)"
   ]
  },
  {
   "cell_type": "code",
   "execution_count": null,
   "id": "e2819bb0-5fee-44d5-961d-15205f15e9e3",
   "metadata": {},
   "outputs": [],
   "source": [
    "# Create map\n",
    "collection = 'projects/earthengine-legacy/assets/projects/wri-datalab/cities/urban_land_use/data/test_tori_Apr2024/builtup_density_JRCs_1000'\n",
    "\n",
    "#importlib.reload(geelayers)\n",
    "geelayers.interactive_map(collection)"
   ]
  },
  {
   "cell_type": "code",
   "execution_count": 8,
   "id": "2f0f8742-6ea1-46e7-af64-0a580fab7bfc",
   "metadata": {
    "scrolled": true
   },
   "outputs": [
    {
     "data": {
      "text/html": [
       "\n",
       "            <style>\n",
       "                .geemap-dark {\n",
       "                    --jp-widgets-color: white;\n",
       "                    --jp-widgets-label-color: white;\n",
       "                    --jp-ui-font-color1: white;\n",
       "                    --jp-layout-color2: #454545;\n",
       "                    background-color: #383838;\n",
       "                }\n",
       "\n",
       "                .geemap-dark .jupyter-button {\n",
       "                    --jp-layout-color3: #383838;\n",
       "                }\n",
       "\n",
       "                .geemap-colab {\n",
       "                    background-color: var(--colab-primary-surface-color, white);\n",
       "                }\n",
       "\n",
       "                .geemap-colab .jupyter-button {\n",
       "                    --jp-layout-color3: var(--colab-primary-surface-color, white);\n",
       "                }\n",
       "            </style>\n",
       "            "
      ],
      "text/plain": [
       "<IPython.core.display.HTML object>"
      ]
     },
     "metadata": {},
     "output_type": "display_data"
    },
    {
     "name": "stdout",
     "output_type": "stream",
     "text": [
      "Image Collection Size: 4241\n",
      "DEST: projects/wri-datalab/cities/urban_land_use/data/test_tori_Apr2024/builtup_density_JRCs_50compare_L2_20_wP\n"
     ]
    }
   ],
   "source": [
    "size = geelayers.GHSL_2020.size().getInfo()\n",
    "print(f\"Image Collection Size: {size}\")\n",
    "print(f'DEST: {config.IC_ID}')\n",
    "#pprint(geelayers.CITY_DATA.sort('UC_NM_MN').aggregate_array('UC_NM_MN').getInfo())"
   ]
  },
  {
   "cell_type": "code",
   "execution_count": 9,
   "id": "56f6a0ca-120e-45a6-8cc5-af86d670347c",
   "metadata": {
    "scrolled": true
   },
   "outputs": [
    {
     "data": {
      "text/html": [
       "\n",
       "            <style>\n",
       "                .geemap-dark {\n",
       "                    --jp-widgets-color: white;\n",
       "                    --jp-widgets-label-color: white;\n",
       "                    --jp-ui-font-color1: white;\n",
       "                    --jp-layout-color2: #454545;\n",
       "                    background-color: #383838;\n",
       "                }\n",
       "\n",
       "                .geemap-dark .jupyter-button {\n",
       "                    --jp-layout-color3: #383838;\n",
       "                }\n",
       "\n",
       "                .geemap-colab {\n",
       "                    background-color: var(--colab-primary-surface-color, white);\n",
       "                }\n",
       "\n",
       "                .geemap-colab .jupyter-button {\n",
       "                    --jp-layout-color3: var(--colab-primary-surface-color, white);\n",
       "                }\n",
       "            </style>\n",
       "            "
      ],
      "text/plain": [
       "<IPython.core.display.HTML object>"
      ]
     },
     "metadata": {},
     "output_type": "display_data"
    },
    {
     "name": "stdout",
     "output_type": "stream",
     "text": [
      "12844\n"
     ]
    }
   ],
   "source": [
    "geelayers.CITY_DATA = geelayers.CITY_DATA.sort('P15', False)\n",
    "OFFSET = config.OFFSET\n",
    "LIMIT = config.LIMIT\n",
    "\n",
    "if OFFSET and LIMIT:\n",
    "    LIMIT = LIMIT+OFFSET\n",
    "IDS = geelayers.CITY_DATA.aggregate_array('ID_HDC_G0').getInfo()[OFFSET:LIMIT]\n",
    "\n",
    "pprint(len(IDS))"
   ]
  },
  {
   "cell_type": "code",
   "execution_count": null,
   "id": "1a681d25-21e8-4753-afa1-e92bf063a62b",
   "metadata": {},
   "outputs": [],
   "source": [
    "# Map the function over the feature collection\n",
    "geelayers.CITY_DATA = geelayers.CITY_DATA.map(helpers.replace_geometry)"
   ]
  },
  {
   "cell_type": "code",
   "execution_count": null,
   "id": "c6757046-6355-4ec5-9192-8e4f8a27645f",
   "metadata": {},
   "outputs": [],
   "source": [
    "# Get list of cities\n",
    "CITIES_LIST = cities.id_hdc_g0_250[1:2]\n",
    "CITIES_LIST"
   ]
  },
  {
   "cell_type": "code",
   "execution_count": null,
   "id": "1816ae76-edd8-4b39-b787-a9e523ddc386",
   "metadata": {},
   "outputs": [],
   "source": [
    "# Calculate Urban Extent for a list of cities\n",
    "super_rasters.get_urban_extents(IDS, CITIES_LIST)"
   ]
  },
  {
   "cell_type": "code",
   "execution_count": null,
   "id": "b66ec52f-9cdc-4d95-a7a0-febc05eebfd6",
   "metadata": {},
   "outputs": [],
   "source": [
    "# Filter to limit cities to be run to those not already in the output ImageCollection.\n",
    "COMPLETED_IDS = ee.ImageCollection(config.IC_ID).aggregate_array('ID_HDC_G0')\n",
    "COMPLETED_FILTER = ee.Filter.And(ee.Filter.inList('ID_HDC_G0', COMPLETED_IDS), ee.Filter.equals('builtup_year', config.mapYear))\n",
    "COMPLETED_CITIES_LIST = ee.ImageCollection(config.IC_ID).filter(COMPLETED_FILTER).aggregate_array('ID_HDC_G0')\n",
    "\n",
    "if config.USE_COMPLETED_FILTER:\n",
    "    geelayers.CITY_DATA = geelayers.CITY_DATA.filter(ee.Filter.inList('ID_HDC_G0', COMPLETED_CITIES_LIST).Not())\n",
    "else:\n",
    "    geelayers.CITY_DATA = geelayers.CITY_DATA\n",
    "\n",
    "pprint(geelayers.CITY_DATA.aggregate_array('UC_NM_MN').getInfo())\n",
    "pprint(geelayers.CITY_DATA.aggregate_array('GRGN_L2').getInfo())\n",
    "pprint(geelayers.CITY_DATA.aggregate_array('ID_HDC_G0').getInfo())"
   ]
  }
 ],
 "metadata": {
  "kernelspec": {
   "display_name": "Python 3 (ipykernel)",
   "language": "python",
   "name": "python3"
  },
  "language_info": {
   "codemirror_mode": {
    "name": "ipython",
    "version": 3
   },
   "file_extension": ".py",
   "mimetype": "text/x-python",
   "name": "python",
   "nbconvert_exporter": "python",
   "pygments_lexer": "ipython3",
   "version": "3.10.13"
  }
 },
 "nbformat": 4,
 "nbformat_minor": 5
}
